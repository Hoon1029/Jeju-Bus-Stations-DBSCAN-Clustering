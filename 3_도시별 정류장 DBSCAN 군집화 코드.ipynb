{
 "cells": [
  {
   "cell_type": "code",
   "execution_count": 12,
   "metadata": {},
   "outputs": [],
   "source": [
    "from sklearn.cluster import DBSCAN\n",
    "import pandas as pd\n",
    "import numpy as np\n",
    "import matplotlib.pyplot as plt\n",
    "import datetime"
   ]
  },
  {
   "cell_type": "code",
   "execution_count": 13,
   "metadata": {},
   "outputs": [],
   "source": [
    "def make_path(s_date, e_date):\n",
    "    root_path = \"\"\n",
    "    base_name = \"tag_usage_data_\"\n",
    "    extender = \".csv\"\n",
    "    s_date = str(s_date)\n",
    "    e_date = str(e_date)\n",
    "    s_date = s_date[2:4]+s_date[5:7]+s_date[8:10]\n",
    "    e_date = e_date[2:4]+e_date[5:7]+e_date[8:10]\n",
    "\n",
    "    file_name = root_path+base_name+s_date+\"_\"+e_date+extender\n",
    "    return file_name"
   ]
  },
  {
   "cell_type": "markdown",
   "metadata": {},
   "source": [
    "#### 1-1 정류장 파일 읽어온 뒤, 'city(시)' 필드 추가\n",
    "#### 1-2 제주시, 서귀포시 정류장 dataframe 생성"
   ]
  },
  {
   "cell_type": "code",
   "execution_count": 19,
   "metadata": {},
   "outputs": [
    {
     "name": "stdout",
     "output_type": "stream",
     "text": [
      "      STATION_ID STATION_NAME  STATION_Y  STATION_X  STATION_USAGE  \\\n",
      "0              1     국제여객선터미널   33.52438  126.54433           6125   \n",
      "1              2        오광로입구   33.49527  126.45618          10723   \n",
      "2              3        오광로입구   33.49546  126.45623           1228   \n",
      "3              4         이호2동   33.49488  126.46137          10098   \n",
      "4              5         이호2동   33.49508  126.46122           3120   \n",
      "...          ...          ...        ...        ...            ...   \n",
      "3615     6115046       여객선대합실   33.96351  126.29717             40   \n",
      "3616     6115047        우도천진항   33.49334  126.95151           5106   \n",
      "3617     6115048        우도봉입구   33.49558  126.95411             24   \n",
      "3618     6115052          비양동   33.51123  126.96567           2213   \n",
      "3619     6115059         하우목동   33.50731  126.95093            486   \n",
      "\n",
      "                 STATION_ADDRESS CITY  \n",
      "0         제주특별자치도 제주시 건입동 908-20  제주시  \n",
      "1        제주특별자치도 제주시 이호이동 1587-4  제주시  \n",
      "2        제주특별자치도 제주시 이호이동 1587-1  제주시  \n",
      "3         제주특별자치도 제주시 이호이동 803-6  제주시  \n",
      "4         제주특별자치도 제주시 이호이동 803-5  제주시  \n",
      "...                          ...  ...  \n",
      "3615    제주특별자치도 제주시 추자면 대서리 14-6  제주시  \n",
      "3616    제주특별자치도 제주시 우도면 연평리 2656  제주시  \n",
      "3617  제주특별자치도 제주시 우도면 연평리 1666-2  제주시  \n",
      "3618   제주특별자치도 제주시 우도면 연평리 133-1  제주시  \n",
      "3619  제주특별자치도 제주시 우도면 연평리 2164-2  제주시  \n",
      "\n",
      "[2074 rows x 7 columns]\n",
      "      STATION_ID       STATION_NAME  STATION_Y  STATION_X  STATION_USAGE  \\\n",
      "1156        1245          1100고지휴게소   33.35782  126.46294            206   \n",
      "1497        1628          붉은오름휴양림입구   33.40241  126.68274            286   \n",
      "1498        1629          붉은오름휴양림입구   33.40326  126.68277            704   \n",
      "1502        1636               롯데호텔   33.24872  126.41032           2236   \n",
      "1503        1637           캐슬렉스골프클럽   33.33905  126.35627            185   \n",
      "...          ...                ...        ...        ...            ...   \n",
      "3567     6100732               구터미널   33.25203  126.56024          56431   \n",
      "3569     6103001           제주월드컵경기장   33.24948  126.50862          46713   \n",
      "3570     6103005       서귀포시구시외버스터미널   33.25217  126.56052          62254   \n",
      "3620     6115100         서귀포시외버스터미널   33.24873  126.50799           3703   \n",
      "3621     6115101  서귀포시외버스터미널(가상정류소)   33.24894  126.50813          37981   \n",
      "\n",
      "                   STATION_ADDRESS  CITY  \n",
      "1156        제주특별자치도 서귀포시 색달동 산 1-2  서귀포시  \n",
      "1497  제주특별자치도 서귀포시 표선면 가시리 산 158-3  서귀포시  \n",
      "1498  제주특별자치도 서귀포시 표선면 가시리 산 158-5  서귀포시  \n",
      "1502       제주특별자치도 서귀포시 색달동 2812-4  서귀포시  \n",
      "1503  제주특별자치도 서귀포시 안덕면 광평리 산 123-5  서귀포시  \n",
      "...                            ...   ...  \n",
      "3567          제주특별자치도 서귀포시 서귀동 337  서귀포시  \n",
      "3569          제주특별자치도 서귀포시 법환동 760  서귀포시  \n",
      "3570          제주특별자치도 서귀포시 서귀동 337  서귀포시  \n",
      "3620          제주특별자치도 서귀포시 법환동 843  서귀포시  \n",
      "3621          제주특별자치도 서귀포시 법환동 843  서귀포시  \n",
      "\n",
      "[1548 rows x 7 columns]\n"
     ]
    }
   ],
   "source": [
    "start_date = datetime.datetime(2019, 6, 1)\n",
    "end_date = datetime.datetime(2019, 8, 29)\n",
    "file_path = make_path(start_date, end_date)\n",
    "df = pd.read_csv(file_path, encoding=\"CP949\")\n",
    "\n",
    "df['CITY'] = df['STATION_ADDRESS'].apply(lambda string: string.split(' ')[1])\n",
    "                    # (예) 'STATION_ADDR': 서귀포시 중문동 ... ☞ 'city': 서귀포시\n",
    "\n",
    "df_jeju_station     = df.query('CITY == \"제주시\"')\n",
    "df_seogwipo_station = df.query('CITY == \"서귀포시\"')\n",
    "\n",
    "list_station_df_per_city = [df_jeju_station, df_seogwipo_station]\n",
    "print(df_jeju_station)\n",
    "print(df_seogwipo_station)"
   ]
  },
  {
   "cell_type": "code",
   "execution_count": 20,
   "metadata": {},
   "outputs": [],
   "source": [
    "target_s = 'target'\n",
    "level_s = 'level'\n",
    "earth_radius = 6371.0088 # 단위: km"
   ]
  },
  {
   "cell_type": "code",
   "execution_count": 21,
   "metadata": {},
   "outputs": [],
   "source": [
    "def get_n_level_spatial_dbscan_result \\\n",
    "    (df, n, eps, min_pts = 3, nonf_cols = ['STATION_ID', 'STATION_NAME'], f_cols = ['STATION_X', 'STATION_Y']):\n",
    "    global earth_radius \n",
    "    dbscan = DBSCAN(eps = eps/1000/earth_radius, algorithm='ball_tree', \n",
    "                    metric='haversine', min_samples=min_pts)\n",
    "    \n",
    "    temp_df = df.loc[:, nonf_cols + f_cols]\n",
    "    temp_df.loc[:, target_s] = dbscan.fit_predict(np.radians(temp_df[f_cols]))\n",
    "\n",
    "    success_index = temp_df.query(target_s + ' > -1').index\n",
    "    temp_df.loc[success_index, level_s] = str(n)\n",
    "    \n",
    "    failed_index = set(temp_df.index) - set(success_index)\n",
    "    temp_df.loc[failed_index, level_s] = str(-1)\n",
    "\n",
    "    return temp_df"
   ]
  },
  {
   "cell_type": "code",
   "execution_count": 22,
   "metadata": {},
   "outputs": [],
   "source": [
    "def get_noise_handled_result \\\n",
    "    (df, n, by1='STATION_ID', by2='STATION_NAME', f_cols=['STATION_X', 'STATION_Y']):\n",
    "    temp_df = df.loc[:, [by1, by2] + f_cols]\n",
    "\n",
    "    temp_df.loc[:, 'target'] = -1\n",
    "    temp_df.loc[:, 'level'] = -1\n",
    "\n",
    "    grouped_df = temp_df.groupby(by = by2, as_index = False)\n",
    "    grouped_df_count = grouped_df.count()\n",
    "    station_nm_list = list(grouped_df_count[grouped_df_count[by1] >= 2][by2])\n",
    "    target_range = np.arange(len(station_nm_list))\n",
    "\n",
    "    for i in target_range:\n",
    "        list_idx = temp_df.query('%s == \"%s\"' % (by2, station_nm_list[i])).index\n",
    "        for idx in list_idx:\n",
    "            temp_df.loc[idx, 'target'] = i\n",
    "            temp_df.loc[idx, 'level'] = n\n",
    "\n",
    "    return temp_df"
   ]
  },
  {
   "cell_type": "code",
   "execution_count": 23,
   "metadata": {},
   "outputs": [],
   "source": [
    "def get_noise_result(df, n):\n",
    "    df.loc[:, 'level'] = n\n",
    "    return df"
   ]
  },
  {
   "cell_type": "code",
   "execution_count": 24,
   "metadata": {},
   "outputs": [],
   "source": [
    "def get_spatial_dbscan_result(eps, station_df):\n",
    "    df_lv1_group = get_n_level_spatial_dbscan_result(station_df, 1, eps, min_pts = 3)\n",
    "    \n",
    "    df_lv2_group = df_lv1_group.query(target_s + ' == -1')\n",
    "    df_lv2_group = get_n_level_spatial_dbscan_result(df_lv2_group, 2, eps, min_pts = 2)\n",
    "    \n",
    "    df_noise_handled_group = df_lv2_group.query(target_s + ' == -1')\n",
    "    df_noise_handled_group = get_noise_handled_result(df_noise_handled_group, 3)\n",
    "    \n",
    "    df_noise_group = df_noise_handled_group.query(target_s + ' == -1')\n",
    "    df_noise_group = get_noise_result(df_noise_group, 4)\n",
    "    \n",
    "    r1 = df_lv1_group.query(target_s + ' > -1')\n",
    "    r2 = df_lv2_group.query(target_s + ' > -1')\n",
    "    r3 = df_noise_handled_group.query(target_s + ' > -1')\n",
    "    r4 = df_noise_group\n",
    "    \n",
    "    combined = pd.concat([r1, r2, r3, r4])\n",
    "    return combined"
   ]
  },
  {
   "cell_type": "markdown",
   "metadata": {},
   "source": [
    "#### 2-1 정류장 클러스터링"
   ]
  },
  {
   "cell_type": "code",
   "execution_count": 25,
   "metadata": {
    "scrolled": true
   },
   "outputs": [
    {
     "name": "stderr",
     "output_type": "stream",
     "text": [
      "D:\\Users\\Embedded\\Anaconda3\\lib\\site-packages\\pandas\\core\\indexing.py:966: SettingWithCopyWarning: \n",
      "A value is trying to be set on a copy of a slice from a DataFrame.\n",
      "Try using .loc[row_indexer,col_indexer] = value instead\n",
      "\n",
      "See the caveats in the documentation: https://pandas.pydata.org/pandas-docs/stable/user_guide/indexing.html#returning-a-view-versus-a-copy\n",
      "  self.obj[item] = s\n",
      "D:\\Users\\Embedded\\Anaconda3\\lib\\site-packages\\pandas\\core\\indexing.py:966: SettingWithCopyWarning: \n",
      "A value is trying to be set on a copy of a slice from a DataFrame.\n",
      "Try using .loc[row_indexer,col_indexer] = value instead\n",
      "\n",
      "See the caveats in the documentation: https://pandas.pydata.org/pandas-docs/stable/user_guide/indexing.html#returning-a-view-versus-a-copy\n",
      "  self.obj[item] = s\n"
     ]
    }
   ],
   "source": [
    "eps_list = [110, 95]\n",
    "list_df_combined = []\n",
    "\n",
    "for i, station_df in enumerate(list_station_df_per_city):   \n",
    "    eps = eps_list[i]\n",
    "    # eps에 따른 dbscan 수행.\n",
    "    df_combined = get_spatial_dbscan_result(eps, station_df)\n",
    "    df_combined.loc[:, 'level'] = df_combined['level'].astype(str)\n",
    "    df_combined.loc[:, 'target'] = df_combined['target'].astype(str)\n",
    "    df_combined['level-target'] = df_combined['level'] + '&' + df_combined['target']\n",
    "\n",
    "    # lv별 grouping -> count -> 저장.\n",
    "    list_df_combined.append(df_combined)"
   ]
  },
  {
   "cell_type": "code",
   "execution_count": 26,
   "metadata": {},
   "outputs": [],
   "source": [
    "list_df_combined[0].to_csv('jeju_city_clustered.csv', index = False, encoding = 'ansi')"
   ]
  },
  {
   "cell_type": "code",
   "execution_count": 27,
   "metadata": {},
   "outputs": [],
   "source": [
    "list_df_combined[1].to_csv('seogwipo_city_clustered.csv', index = False, encoding = 'ansi')"
   ]
  }
 ],
 "metadata": {
  "kernelspec": {
   "display_name": "Python 3",
   "language": "python",
   "name": "python3"
  },
  "language_info": {
   "codemirror_mode": {
    "name": "ipython",
    "version": 3
   },
   "file_extension": ".py",
   "mimetype": "text/x-python",
   "name": "python",
   "nbconvert_exporter": "python",
   "pygments_lexer": "ipython3",
   "version": "3.8.3"
  }
 },
 "nbformat": 4,
 "nbformat_minor": 2
}
